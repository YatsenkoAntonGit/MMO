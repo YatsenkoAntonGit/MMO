{
  "nbformat": 4,
  "nbformat_minor": 0,
  "metadata": {
    "colab": {
      "name": "lr2.ipynb",
      "provenance": [],
      "collapsed_sections": []
    },
    "kernelspec": {
      "name": "python3",
      "display_name": "Python 3"
    },
    "language_info": {
      "name": "python"
    }
  },
  "cells": [
    {
      "cell_type": "code",
      "metadata": {
        "colab": {
          "base_uri": "https://localhost:8080/"
        },
        "id": "bz8S7p0qFaZ2",
        "outputId": "3ff35064-afc5-4d69-fe94-03eb90eb2e68"
      },
      "source": [
        "from google.colab import drive\n",
        "drive.mount('/content/drive', force_remount=True)\n",
        "path = \"/content/drive/\""
      ],
      "execution_count": null,
      "outputs": [
        {
          "output_type": "stream",
          "text": [
            "Mounted at /content/drive\n"
          ],
          "name": "stdout"
        }
      ]
    },
    {
      "cell_type": "code",
      "metadata": {
        "id": "MBevf6nlGjhI"
      },
      "source": [
        "import numpy as np\n",
        "import pandas as pd\n",
        "import seaborn as sns\n",
        "import matplotlib.pyplot as plt\n",
        "from sklearn.impute import SimpleImputer\n",
        "from sklearn.impute import MissingIndicator\n",
        "from sklearn.impute import KNNImputer\n",
        "from sklearn.preprocessing import StandardScaler\n",
        "from sklearn.linear_model import Lasso\n",
        "from sklearn.pipeline import Pipeline\n",
        "from sklearn.model_selection import GridSearchCV\n",
        "from sklearn.ensemble import RandomForestRegressor\n",
        "from sklearn.experimental import enable_iterative_imputer\n",
        "from sklearn.impute import IterativeImputer\n",
        "from IPython.display import Image\n",
        "import scipy.stats as stats\n",
        "%matplotlib inline \n",
        "sns.set(style=\"ticks\")"
      ],
      "execution_count": null,
      "outputs": []
    },
    {
      "cell_type": "markdown",
      "metadata": {
        "id": "GvNMiq0TO4yd"
      },
      "source": [
        "# Устранение пропусков:"
      ]
    },
    {
      "cell_type": "code",
      "metadata": {
        "id": "hEc-4mnRGnLP"
      },
      "source": [
        "dataset1 = pd.read_csv(path+'/MyDrive/data.csv')"
      ],
      "execution_count": null,
      "outputs": []
    },
    {
      "cell_type": "code",
      "metadata": {
        "colab": {
          "base_uri": "https://localhost:8080/",
          "height": 372
        },
        "id": "BGx6qfmOGsRa",
        "outputId": "7cbcdb94-f47f-4fe0-bc79-1ade351a776e"
      },
      "source": [
        "dataset1.head()"
      ],
      "execution_count": null,
      "outputs": [
        {
          "output_type": "execute_result",
          "data": {
            "text/html": [
              "<div>\n",
              "<style scoped>\n",
              "    .dataframe tbody tr th:only-of-type {\n",
              "        vertical-align: middle;\n",
              "    }\n",
              "\n",
              "    .dataframe tbody tr th {\n",
              "        vertical-align: top;\n",
              "    }\n",
              "\n",
              "    .dataframe thead th {\n",
              "        text-align: right;\n",
              "    }\n",
              "</style>\n",
              "<table border=\"1\" class=\"dataframe\">\n",
              "  <thead>\n",
              "    <tr style=\"text-align: right;\">\n",
              "      <th></th>\n",
              "      <th>Unnamed: 0</th>\n",
              "      <th>ID</th>\n",
              "      <th>Name</th>\n",
              "      <th>Age</th>\n",
              "      <th>Photo</th>\n",
              "      <th>Nationality</th>\n",
              "      <th>Flag</th>\n",
              "      <th>Overall</th>\n",
              "      <th>Potential</th>\n",
              "      <th>Club</th>\n",
              "      <th>Club Logo</th>\n",
              "      <th>Value</th>\n",
              "      <th>Wage</th>\n",
              "      <th>Special</th>\n",
              "      <th>Preferred Foot</th>\n",
              "      <th>International Reputation</th>\n",
              "      <th>Weak Foot</th>\n",
              "      <th>Skill Moves</th>\n",
              "      <th>Work Rate</th>\n",
              "      <th>Body Type</th>\n",
              "      <th>Real Face</th>\n",
              "      <th>Position</th>\n",
              "      <th>Jersey Number</th>\n",
              "      <th>Joined</th>\n",
              "      <th>Loaned From</th>\n",
              "      <th>Contract Valid Until</th>\n",
              "      <th>Height</th>\n",
              "      <th>Weight</th>\n",
              "      <th>LS</th>\n",
              "      <th>ST</th>\n",
              "      <th>RS</th>\n",
              "      <th>LW</th>\n",
              "      <th>LF</th>\n",
              "      <th>CF</th>\n",
              "      <th>RF</th>\n",
              "      <th>RW</th>\n",
              "      <th>LAM</th>\n",
              "      <th>CAM</th>\n",
              "      <th>RAM</th>\n",
              "      <th>LM</th>\n",
              "      <th>...</th>\n",
              "      <th>LB</th>\n",
              "      <th>LCB</th>\n",
              "      <th>CB</th>\n",
              "      <th>RCB</th>\n",
              "      <th>RB</th>\n",
              "      <th>Crossing</th>\n",
              "      <th>Finishing</th>\n",
              "      <th>HeadingAccuracy</th>\n",
              "      <th>ShortPassing</th>\n",
              "      <th>Volleys</th>\n",
              "      <th>Dribbling</th>\n",
              "      <th>Curve</th>\n",
              "      <th>FKAccuracy</th>\n",
              "      <th>LongPassing</th>\n",
              "      <th>BallControl</th>\n",
              "      <th>Acceleration</th>\n",
              "      <th>SprintSpeed</th>\n",
              "      <th>Agility</th>\n",
              "      <th>Reactions</th>\n",
              "      <th>Balance</th>\n",
              "      <th>ShotPower</th>\n",
              "      <th>Jumping</th>\n",
              "      <th>Stamina</th>\n",
              "      <th>Strength</th>\n",
              "      <th>LongShots</th>\n",
              "      <th>Aggression</th>\n",
              "      <th>Interceptions</th>\n",
              "      <th>Positioning</th>\n",
              "      <th>Vision</th>\n",
              "      <th>Penalties</th>\n",
              "      <th>Composure</th>\n",
              "      <th>Marking</th>\n",
              "      <th>StandingTackle</th>\n",
              "      <th>SlidingTackle</th>\n",
              "      <th>GKDiving</th>\n",
              "      <th>GKHandling</th>\n",
              "      <th>GKKicking</th>\n",
              "      <th>GKPositioning</th>\n",
              "      <th>GKReflexes</th>\n",
              "      <th>Release Clause</th>\n",
              "    </tr>\n",
              "  </thead>\n",
              "  <tbody>\n",
              "    <tr>\n",
              "      <th>0</th>\n",
              "      <td>0</td>\n",
              "      <td>158023</td>\n",
              "      <td>L. Messi</td>\n",
              "      <td>31</td>\n",
              "      <td>https://cdn.sofifa.org/players/4/19/158023.png</td>\n",
              "      <td>Argentina</td>\n",
              "      <td>https://cdn.sofifa.org/flags/52.png</td>\n",
              "      <td>94</td>\n",
              "      <td>94</td>\n",
              "      <td>FC Barcelona</td>\n",
              "      <td>https://cdn.sofifa.org/teams/2/light/241.png</td>\n",
              "      <td>€110.5M</td>\n",
              "      <td>€565K</td>\n",
              "      <td>2202</td>\n",
              "      <td>Left</td>\n",
              "      <td>5.0</td>\n",
              "      <td>4.0</td>\n",
              "      <td>4.0</td>\n",
              "      <td>Medium/ Medium</td>\n",
              "      <td>Messi</td>\n",
              "      <td>Yes</td>\n",
              "      <td>RF</td>\n",
              "      <td>10.0</td>\n",
              "      <td>Jul 1, 2004</td>\n",
              "      <td>NaN</td>\n",
              "      <td>2021</td>\n",
              "      <td>5'7</td>\n",
              "      <td>159lbs</td>\n",
              "      <td>88+2</td>\n",
              "      <td>88+2</td>\n",
              "      <td>88+2</td>\n",
              "      <td>92+2</td>\n",
              "      <td>93+2</td>\n",
              "      <td>93+2</td>\n",
              "      <td>93+2</td>\n",
              "      <td>92+2</td>\n",
              "      <td>93+2</td>\n",
              "      <td>93+2</td>\n",
              "      <td>93+2</td>\n",
              "      <td>91+2</td>\n",
              "      <td>...</td>\n",
              "      <td>59+2</td>\n",
              "      <td>47+2</td>\n",
              "      <td>47+2</td>\n",
              "      <td>47+2</td>\n",
              "      <td>59+2</td>\n",
              "      <td>84.0</td>\n",
              "      <td>95.0</td>\n",
              "      <td>70.0</td>\n",
              "      <td>90.0</td>\n",
              "      <td>86.0</td>\n",
              "      <td>97.0</td>\n",
              "      <td>93.0</td>\n",
              "      <td>94.0</td>\n",
              "      <td>87.0</td>\n",
              "      <td>96.0</td>\n",
              "      <td>91.0</td>\n",
              "      <td>86.0</td>\n",
              "      <td>91.0</td>\n",
              "      <td>95.0</td>\n",
              "      <td>95.0</td>\n",
              "      <td>85.0</td>\n",
              "      <td>68.0</td>\n",
              "      <td>72.0</td>\n",
              "      <td>59.0</td>\n",
              "      <td>94.0</td>\n",
              "      <td>48.0</td>\n",
              "      <td>22.0</td>\n",
              "      <td>94.0</td>\n",
              "      <td>94.0</td>\n",
              "      <td>75.0</td>\n",
              "      <td>96.0</td>\n",
              "      <td>33.0</td>\n",
              "      <td>28.0</td>\n",
              "      <td>26.0</td>\n",
              "      <td>6.0</td>\n",
              "      <td>11.0</td>\n",
              "      <td>15.0</td>\n",
              "      <td>14.0</td>\n",
              "      <td>8.0</td>\n",
              "      <td>€226.5M</td>\n",
              "    </tr>\n",
              "    <tr>\n",
              "      <th>1</th>\n",
              "      <td>1</td>\n",
              "      <td>20801</td>\n",
              "      <td>Cristiano Ronaldo</td>\n",
              "      <td>33</td>\n",
              "      <td>https://cdn.sofifa.org/players/4/19/20801.png</td>\n",
              "      <td>Portugal</td>\n",
              "      <td>https://cdn.sofifa.org/flags/38.png</td>\n",
              "      <td>94</td>\n",
              "      <td>94</td>\n",
              "      <td>Juventus</td>\n",
              "      <td>https://cdn.sofifa.org/teams/2/light/45.png</td>\n",
              "      <td>€77M</td>\n",
              "      <td>€405K</td>\n",
              "      <td>2228</td>\n",
              "      <td>Right</td>\n",
              "      <td>5.0</td>\n",
              "      <td>4.0</td>\n",
              "      <td>5.0</td>\n",
              "      <td>High/ Low</td>\n",
              "      <td>C. Ronaldo</td>\n",
              "      <td>Yes</td>\n",
              "      <td>ST</td>\n",
              "      <td>7.0</td>\n",
              "      <td>Jul 10, 2018</td>\n",
              "      <td>NaN</td>\n",
              "      <td>2022</td>\n",
              "      <td>6'2</td>\n",
              "      <td>183lbs</td>\n",
              "      <td>91+3</td>\n",
              "      <td>91+3</td>\n",
              "      <td>91+3</td>\n",
              "      <td>89+3</td>\n",
              "      <td>90+3</td>\n",
              "      <td>90+3</td>\n",
              "      <td>90+3</td>\n",
              "      <td>89+3</td>\n",
              "      <td>88+3</td>\n",
              "      <td>88+3</td>\n",
              "      <td>88+3</td>\n",
              "      <td>88+3</td>\n",
              "      <td>...</td>\n",
              "      <td>61+3</td>\n",
              "      <td>53+3</td>\n",
              "      <td>53+3</td>\n",
              "      <td>53+3</td>\n",
              "      <td>61+3</td>\n",
              "      <td>84.0</td>\n",
              "      <td>94.0</td>\n",
              "      <td>89.0</td>\n",
              "      <td>81.0</td>\n",
              "      <td>87.0</td>\n",
              "      <td>88.0</td>\n",
              "      <td>81.0</td>\n",
              "      <td>76.0</td>\n",
              "      <td>77.0</td>\n",
              "      <td>94.0</td>\n",
              "      <td>89.0</td>\n",
              "      <td>91.0</td>\n",
              "      <td>87.0</td>\n",
              "      <td>96.0</td>\n",
              "      <td>70.0</td>\n",
              "      <td>95.0</td>\n",
              "      <td>95.0</td>\n",
              "      <td>88.0</td>\n",
              "      <td>79.0</td>\n",
              "      <td>93.0</td>\n",
              "      <td>63.0</td>\n",
              "      <td>29.0</td>\n",
              "      <td>95.0</td>\n",
              "      <td>82.0</td>\n",
              "      <td>85.0</td>\n",
              "      <td>95.0</td>\n",
              "      <td>28.0</td>\n",
              "      <td>31.0</td>\n",
              "      <td>23.0</td>\n",
              "      <td>7.0</td>\n",
              "      <td>11.0</td>\n",
              "      <td>15.0</td>\n",
              "      <td>14.0</td>\n",
              "      <td>11.0</td>\n",
              "      <td>€127.1M</td>\n",
              "    </tr>\n",
              "    <tr>\n",
              "      <th>2</th>\n",
              "      <td>2</td>\n",
              "      <td>190871</td>\n",
              "      <td>Neymar Jr</td>\n",
              "      <td>26</td>\n",
              "      <td>https://cdn.sofifa.org/players/4/19/190871.png</td>\n",
              "      <td>Brazil</td>\n",
              "      <td>https://cdn.sofifa.org/flags/54.png</td>\n",
              "      <td>92</td>\n",
              "      <td>93</td>\n",
              "      <td>Paris Saint-Germain</td>\n",
              "      <td>https://cdn.sofifa.org/teams/2/light/73.png</td>\n",
              "      <td>€118.5M</td>\n",
              "      <td>€290K</td>\n",
              "      <td>2143</td>\n",
              "      <td>Right</td>\n",
              "      <td>5.0</td>\n",
              "      <td>5.0</td>\n",
              "      <td>5.0</td>\n",
              "      <td>High/ Medium</td>\n",
              "      <td>Neymar</td>\n",
              "      <td>Yes</td>\n",
              "      <td>LW</td>\n",
              "      <td>10.0</td>\n",
              "      <td>Aug 3, 2017</td>\n",
              "      <td>NaN</td>\n",
              "      <td>2022</td>\n",
              "      <td>5'9</td>\n",
              "      <td>150lbs</td>\n",
              "      <td>84+3</td>\n",
              "      <td>84+3</td>\n",
              "      <td>84+3</td>\n",
              "      <td>89+3</td>\n",
              "      <td>89+3</td>\n",
              "      <td>89+3</td>\n",
              "      <td>89+3</td>\n",
              "      <td>89+3</td>\n",
              "      <td>89+3</td>\n",
              "      <td>89+3</td>\n",
              "      <td>89+3</td>\n",
              "      <td>88+3</td>\n",
              "      <td>...</td>\n",
              "      <td>60+3</td>\n",
              "      <td>47+3</td>\n",
              "      <td>47+3</td>\n",
              "      <td>47+3</td>\n",
              "      <td>60+3</td>\n",
              "      <td>79.0</td>\n",
              "      <td>87.0</td>\n",
              "      <td>62.0</td>\n",
              "      <td>84.0</td>\n",
              "      <td>84.0</td>\n",
              "      <td>96.0</td>\n",
              "      <td>88.0</td>\n",
              "      <td>87.0</td>\n",
              "      <td>78.0</td>\n",
              "      <td>95.0</td>\n",
              "      <td>94.0</td>\n",
              "      <td>90.0</td>\n",
              "      <td>96.0</td>\n",
              "      <td>94.0</td>\n",
              "      <td>84.0</td>\n",
              "      <td>80.0</td>\n",
              "      <td>61.0</td>\n",
              "      <td>81.0</td>\n",
              "      <td>49.0</td>\n",
              "      <td>82.0</td>\n",
              "      <td>56.0</td>\n",
              "      <td>36.0</td>\n",
              "      <td>89.0</td>\n",
              "      <td>87.0</td>\n",
              "      <td>81.0</td>\n",
              "      <td>94.0</td>\n",
              "      <td>27.0</td>\n",
              "      <td>24.0</td>\n",
              "      <td>33.0</td>\n",
              "      <td>9.0</td>\n",
              "      <td>9.0</td>\n",
              "      <td>15.0</td>\n",
              "      <td>15.0</td>\n",
              "      <td>11.0</td>\n",
              "      <td>€228.1M</td>\n",
              "    </tr>\n",
              "    <tr>\n",
              "      <th>3</th>\n",
              "      <td>3</td>\n",
              "      <td>193080</td>\n",
              "      <td>De Gea</td>\n",
              "      <td>27</td>\n",
              "      <td>https://cdn.sofifa.org/players/4/19/193080.png</td>\n",
              "      <td>Spain</td>\n",
              "      <td>https://cdn.sofifa.org/flags/45.png</td>\n",
              "      <td>91</td>\n",
              "      <td>93</td>\n",
              "      <td>Manchester United</td>\n",
              "      <td>https://cdn.sofifa.org/teams/2/light/11.png</td>\n",
              "      <td>€72M</td>\n",
              "      <td>€260K</td>\n",
              "      <td>1471</td>\n",
              "      <td>Right</td>\n",
              "      <td>4.0</td>\n",
              "      <td>3.0</td>\n",
              "      <td>1.0</td>\n",
              "      <td>Medium/ Medium</td>\n",
              "      <td>Lean</td>\n",
              "      <td>Yes</td>\n",
              "      <td>GK</td>\n",
              "      <td>1.0</td>\n",
              "      <td>Jul 1, 2011</td>\n",
              "      <td>NaN</td>\n",
              "      <td>2020</td>\n",
              "      <td>6'4</td>\n",
              "      <td>168lbs</td>\n",
              "      <td>NaN</td>\n",
              "      <td>NaN</td>\n",
              "      <td>NaN</td>\n",
              "      <td>NaN</td>\n",
              "      <td>NaN</td>\n",
              "      <td>NaN</td>\n",
              "      <td>NaN</td>\n",
              "      <td>NaN</td>\n",
              "      <td>NaN</td>\n",
              "      <td>NaN</td>\n",
              "      <td>NaN</td>\n",
              "      <td>NaN</td>\n",
              "      <td>...</td>\n",
              "      <td>NaN</td>\n",
              "      <td>NaN</td>\n",
              "      <td>NaN</td>\n",
              "      <td>NaN</td>\n",
              "      <td>NaN</td>\n",
              "      <td>17.0</td>\n",
              "      <td>13.0</td>\n",
              "      <td>21.0</td>\n",
              "      <td>50.0</td>\n",
              "      <td>13.0</td>\n",
              "      <td>18.0</td>\n",
              "      <td>21.0</td>\n",
              "      <td>19.0</td>\n",
              "      <td>51.0</td>\n",
              "      <td>42.0</td>\n",
              "      <td>57.0</td>\n",
              "      <td>58.0</td>\n",
              "      <td>60.0</td>\n",
              "      <td>90.0</td>\n",
              "      <td>43.0</td>\n",
              "      <td>31.0</td>\n",
              "      <td>67.0</td>\n",
              "      <td>43.0</td>\n",
              "      <td>64.0</td>\n",
              "      <td>12.0</td>\n",
              "      <td>38.0</td>\n",
              "      <td>30.0</td>\n",
              "      <td>12.0</td>\n",
              "      <td>68.0</td>\n",
              "      <td>40.0</td>\n",
              "      <td>68.0</td>\n",
              "      <td>15.0</td>\n",
              "      <td>21.0</td>\n",
              "      <td>13.0</td>\n",
              "      <td>90.0</td>\n",
              "      <td>85.0</td>\n",
              "      <td>87.0</td>\n",
              "      <td>88.0</td>\n",
              "      <td>94.0</td>\n",
              "      <td>€138.6M</td>\n",
              "    </tr>\n",
              "    <tr>\n",
              "      <th>4</th>\n",
              "      <td>4</td>\n",
              "      <td>192985</td>\n",
              "      <td>K. De Bruyne</td>\n",
              "      <td>27</td>\n",
              "      <td>https://cdn.sofifa.org/players/4/19/192985.png</td>\n",
              "      <td>Belgium</td>\n",
              "      <td>https://cdn.sofifa.org/flags/7.png</td>\n",
              "      <td>91</td>\n",
              "      <td>92</td>\n",
              "      <td>Manchester City</td>\n",
              "      <td>https://cdn.sofifa.org/teams/2/light/10.png</td>\n",
              "      <td>€102M</td>\n",
              "      <td>€355K</td>\n",
              "      <td>2281</td>\n",
              "      <td>Right</td>\n",
              "      <td>4.0</td>\n",
              "      <td>5.0</td>\n",
              "      <td>4.0</td>\n",
              "      <td>High/ High</td>\n",
              "      <td>Normal</td>\n",
              "      <td>Yes</td>\n",
              "      <td>RCM</td>\n",
              "      <td>7.0</td>\n",
              "      <td>Aug 30, 2015</td>\n",
              "      <td>NaN</td>\n",
              "      <td>2023</td>\n",
              "      <td>5'11</td>\n",
              "      <td>154lbs</td>\n",
              "      <td>82+3</td>\n",
              "      <td>82+3</td>\n",
              "      <td>82+3</td>\n",
              "      <td>87+3</td>\n",
              "      <td>87+3</td>\n",
              "      <td>87+3</td>\n",
              "      <td>87+3</td>\n",
              "      <td>87+3</td>\n",
              "      <td>88+3</td>\n",
              "      <td>88+3</td>\n",
              "      <td>88+3</td>\n",
              "      <td>88+3</td>\n",
              "      <td>...</td>\n",
              "      <td>73+3</td>\n",
              "      <td>66+3</td>\n",
              "      <td>66+3</td>\n",
              "      <td>66+3</td>\n",
              "      <td>73+3</td>\n",
              "      <td>93.0</td>\n",
              "      <td>82.0</td>\n",
              "      <td>55.0</td>\n",
              "      <td>92.0</td>\n",
              "      <td>82.0</td>\n",
              "      <td>86.0</td>\n",
              "      <td>85.0</td>\n",
              "      <td>83.0</td>\n",
              "      <td>91.0</td>\n",
              "      <td>91.0</td>\n",
              "      <td>78.0</td>\n",
              "      <td>76.0</td>\n",
              "      <td>79.0</td>\n",
              "      <td>91.0</td>\n",
              "      <td>77.0</td>\n",
              "      <td>91.0</td>\n",
              "      <td>63.0</td>\n",
              "      <td>90.0</td>\n",
              "      <td>75.0</td>\n",
              "      <td>91.0</td>\n",
              "      <td>76.0</td>\n",
              "      <td>61.0</td>\n",
              "      <td>87.0</td>\n",
              "      <td>94.0</td>\n",
              "      <td>79.0</td>\n",
              "      <td>88.0</td>\n",
              "      <td>68.0</td>\n",
              "      <td>58.0</td>\n",
              "      <td>51.0</td>\n",
              "      <td>15.0</td>\n",
              "      <td>13.0</td>\n",
              "      <td>5.0</td>\n",
              "      <td>10.0</td>\n",
              "      <td>13.0</td>\n",
              "      <td>€196.4M</td>\n",
              "    </tr>\n",
              "  </tbody>\n",
              "</table>\n",
              "<p>5 rows × 89 columns</p>\n",
              "</div>"
            ],
            "text/plain": [
              "   Unnamed: 0      ID  ... GKReflexes  Release Clause\n",
              "0           0  158023  ...        8.0         €226.5M\n",
              "1           1   20801  ...       11.0         €127.1M\n",
              "2           2  190871  ...       11.0         €228.1M\n",
              "3           3  193080  ...       94.0         €138.6M\n",
              "4           4  192985  ...       13.0         €196.4M\n",
              "\n",
              "[5 rows x 89 columns]"
            ]
          },
          "metadata": {
            "tags": []
          },
          "execution_count": 62
        }
      ]
    },
    {
      "cell_type": "code",
      "metadata": {
        "colab": {
          "base_uri": "https://localhost:8080/"
        },
        "id": "BHJzDfBQGvN3",
        "outputId": "30995eba-2d91-46c5-aa86-3be38a4530e6"
      },
      "source": [
        "dataset1.shape"
      ],
      "execution_count": null,
      "outputs": [
        {
          "output_type": "execute_result",
          "data": {
            "text/plain": [
              "(18207, 89)"
            ]
          },
          "metadata": {
            "tags": []
          },
          "execution_count": 63
        }
      ]
    },
    {
      "cell_type": "code",
      "metadata": {
        "colab": {
          "base_uri": "https://localhost:8080/"
        },
        "id": "F3SgwxlFGz4B",
        "outputId": "30958a0c-6abe-4029-ce7c-682760b413e0"
      },
      "source": [
        "data_features1 = list(zip(\n",
        "# признаки\n",
        "[i for i in dataset1.columns],\n",
        "zip(\n",
        "    # типы колонок\n",
        "    [str(i) for i in dataset1.dtypes],\n",
        "    # проверим есть ли пропущенные значения\n",
        "    [i for i in dataset1.isnull().sum()]\n",
        ")))\n",
        "# Признаки с типом данных и количеством пропусков\n",
        "data_features1"
      ],
      "execution_count": null,
      "outputs": [
        {
          "output_type": "execute_result",
          "data": {
            "text/plain": [
              "[('Unnamed: 0', ('int64', 0)),\n",
              " ('ID', ('int64', 0)),\n",
              " ('Name', ('object', 0)),\n",
              " ('Age', ('int64', 0)),\n",
              " ('Photo', ('object', 0)),\n",
              " ('Nationality', ('object', 0)),\n",
              " ('Flag', ('object', 0)),\n",
              " ('Overall', ('int64', 0)),\n",
              " ('Potential', ('int64', 0)),\n",
              " ('Club', ('object', 241)),\n",
              " ('Club Logo', ('object', 0)),\n",
              " ('Value', ('object', 0)),\n",
              " ('Wage', ('object', 0)),\n",
              " ('Special', ('int64', 0)),\n",
              " ('Preferred Foot', ('object', 48)),\n",
              " ('International Reputation', ('float64', 48)),\n",
              " ('Weak Foot', ('float64', 48)),\n",
              " ('Skill Moves', ('float64', 48)),\n",
              " ('Work Rate', ('object', 48)),\n",
              " ('Body Type', ('object', 48)),\n",
              " ('Real Face', ('object', 48)),\n",
              " ('Position', ('object', 60)),\n",
              " ('Jersey Number', ('float64', 60)),\n",
              " ('Joined', ('object', 1553)),\n",
              " ('Loaned From', ('object', 16943)),\n",
              " ('Contract Valid Until', ('object', 289)),\n",
              " ('Height', ('object', 48)),\n",
              " ('Weight', ('object', 48)),\n",
              " ('LS', ('object', 2085)),\n",
              " ('ST', ('object', 2085)),\n",
              " ('RS', ('object', 2085)),\n",
              " ('LW', ('object', 2085)),\n",
              " ('LF', ('object', 2085)),\n",
              " ('CF', ('object', 2085)),\n",
              " ('RF', ('object', 2085)),\n",
              " ('RW', ('object', 2085)),\n",
              " ('LAM', ('object', 2085)),\n",
              " ('CAM', ('object', 2085)),\n",
              " ('RAM', ('object', 2085)),\n",
              " ('LM', ('object', 2085)),\n",
              " ('LCM', ('object', 2085)),\n",
              " ('CM', ('object', 2085)),\n",
              " ('RCM', ('object', 2085)),\n",
              " ('RM', ('object', 2085)),\n",
              " ('LWB', ('object', 2085)),\n",
              " ('LDM', ('object', 2085)),\n",
              " ('CDM', ('object', 2085)),\n",
              " ('RDM', ('object', 2085)),\n",
              " ('RWB', ('object', 2085)),\n",
              " ('LB', ('object', 2085)),\n",
              " ('LCB', ('object', 2085)),\n",
              " ('CB', ('object', 2085)),\n",
              " ('RCB', ('object', 2085)),\n",
              " ('RB', ('object', 2085)),\n",
              " ('Crossing', ('float64', 48)),\n",
              " ('Finishing', ('float64', 48)),\n",
              " ('HeadingAccuracy', ('float64', 48)),\n",
              " ('ShortPassing', ('float64', 48)),\n",
              " ('Volleys', ('float64', 48)),\n",
              " ('Dribbling', ('float64', 48)),\n",
              " ('Curve', ('float64', 48)),\n",
              " ('FKAccuracy', ('float64', 48)),\n",
              " ('LongPassing', ('float64', 48)),\n",
              " ('BallControl', ('float64', 48)),\n",
              " ('Acceleration', ('float64', 48)),\n",
              " ('SprintSpeed', ('float64', 48)),\n",
              " ('Agility', ('float64', 48)),\n",
              " ('Reactions', ('float64', 48)),\n",
              " ('Balance', ('float64', 48)),\n",
              " ('ShotPower', ('float64', 48)),\n",
              " ('Jumping', ('float64', 48)),\n",
              " ('Stamina', ('float64', 48)),\n",
              " ('Strength', ('float64', 48)),\n",
              " ('LongShots', ('float64', 48)),\n",
              " ('Aggression', ('float64', 48)),\n",
              " ('Interceptions', ('float64', 48)),\n",
              " ('Positioning', ('float64', 48)),\n",
              " ('Vision', ('float64', 48)),\n",
              " ('Penalties', ('float64', 48)),\n",
              " ('Composure', ('float64', 48)),\n",
              " ('Marking', ('float64', 48)),\n",
              " ('StandingTackle', ('float64', 48)),\n",
              " ('SlidingTackle', ('float64', 48)),\n",
              " ('GKDiving', ('float64', 48)),\n",
              " ('GKHandling', ('float64', 48)),\n",
              " ('GKKicking', ('float64', 48)),\n",
              " ('GKPositioning', ('float64', 48)),\n",
              " ('GKReflexes', ('float64', 48)),\n",
              " ('Release Clause', ('object', 1564))]"
            ]
          },
          "metadata": {
            "tags": []
          },
          "execution_count": 64
        }
      ]
    },
    {
      "cell_type": "code",
      "metadata": {
        "id": "MTGUlsrxG5dq"
      },
      "source": [
        "# Колонки с пропусками\n",
        "columns_with_na = [c for c in dataset1.columns if dataset1[c].isnull().sum() > 0]\n",
        "data1_cat_new = dataset1[columns_with_na].copy()"
      ],
      "execution_count": null,
      "outputs": []
    },
    {
      "cell_type": "code",
      "metadata": {
        "colab": {
          "base_uri": "https://localhost:8080/"
        },
        "id": "VbV487zFG8GF",
        "outputId": "e5baa0c0-35ef-4c87-f870-a7d70a66944d"
      },
      "source": [
        "# % пропусков\n",
        "[(c, dataset1[c].isnull().mean()) for c in columns_with_na]"
      ],
      "execution_count": null,
      "outputs": [
        {
          "output_type": "execute_result",
          "data": {
            "text/plain": [
              "[('Club', 0.01323666721590597),\n",
              " ('Preferred Foot', 0.0026363486571099027),\n",
              " ('International Reputation', 0.0026363486571099027),\n",
              " ('Weak Foot', 0.0026363486571099027),\n",
              " ('Skill Moves', 0.0026363486571099027),\n",
              " ('Work Rate', 0.0026363486571099027),\n",
              " ('Body Type', 0.0026363486571099027),\n",
              " ('Real Face', 0.0026363486571099027),\n",
              " ('Position', 0.0032954358213873785),\n",
              " ('Jersey Number', 0.0032954358213873785),\n",
              " ('Joined', 0.08529686384357664),\n",
              " ('Loaned From', 0.9305761520294392),\n",
              " ('Contract Valid Until', 0.015873015873015872),\n",
              " ('Height', 0.0026363486571099027),\n",
              " ('Weight', 0.0026363486571099027),\n",
              " ('LS', 0.1145163947932114),\n",
              " ('ST', 0.1145163947932114),\n",
              " ('RS', 0.1145163947932114),\n",
              " ('LW', 0.1145163947932114),\n",
              " ('LF', 0.1145163947932114),\n",
              " ('CF', 0.1145163947932114),\n",
              " ('RF', 0.1145163947932114),\n",
              " ('RW', 0.1145163947932114),\n",
              " ('LAM', 0.1145163947932114),\n",
              " ('CAM', 0.1145163947932114),\n",
              " ('RAM', 0.1145163947932114),\n",
              " ('LM', 0.1145163947932114),\n",
              " ('LCM', 0.1145163947932114),\n",
              " ('CM', 0.1145163947932114),\n",
              " ('RCM', 0.1145163947932114),\n",
              " ('RM', 0.1145163947932114),\n",
              " ('LWB', 0.1145163947932114),\n",
              " ('LDM', 0.1145163947932114),\n",
              " ('CDM', 0.1145163947932114),\n",
              " ('RDM', 0.1145163947932114),\n",
              " ('RWB', 0.1145163947932114),\n",
              " ('LB', 0.1145163947932114),\n",
              " ('LCB', 0.1145163947932114),\n",
              " ('CB', 0.1145163947932114),\n",
              " ('RCB', 0.1145163947932114),\n",
              " ('RB', 0.1145163947932114),\n",
              " ('Crossing', 0.0026363486571099027),\n",
              " ('Finishing', 0.0026363486571099027),\n",
              " ('HeadingAccuracy', 0.0026363486571099027),\n",
              " ('ShortPassing', 0.0026363486571099027),\n",
              " ('Volleys', 0.0026363486571099027),\n",
              " ('Dribbling', 0.0026363486571099027),\n",
              " ('Curve', 0.0026363486571099027),\n",
              " ('FKAccuracy', 0.0026363486571099027),\n",
              " ('LongPassing', 0.0026363486571099027),\n",
              " ('BallControl', 0.0026363486571099027),\n",
              " ('Acceleration', 0.0026363486571099027),\n",
              " ('SprintSpeed', 0.0026363486571099027),\n",
              " ('Agility', 0.0026363486571099027),\n",
              " ('Reactions', 0.0026363486571099027),\n",
              " ('Balance', 0.0026363486571099027),\n",
              " ('ShotPower', 0.0026363486571099027),\n",
              " ('Jumping', 0.0026363486571099027),\n",
              " ('Stamina', 0.0026363486571099027),\n",
              " ('Strength', 0.0026363486571099027),\n",
              " ('LongShots', 0.0026363486571099027),\n",
              " ('Aggression', 0.0026363486571099027),\n",
              " ('Interceptions', 0.0026363486571099027),\n",
              " ('Positioning', 0.0026363486571099027),\n",
              " ('Vision', 0.0026363486571099027),\n",
              " ('Penalties', 0.0026363486571099027),\n",
              " ('Composure', 0.0026363486571099027),\n",
              " ('Marking', 0.0026363486571099027),\n",
              " ('StandingTackle', 0.0026363486571099027),\n",
              " ('SlidingTackle', 0.0026363486571099027),\n",
              " ('GKDiving', 0.0026363486571099027),\n",
              " ('GKHandling', 0.0026363486571099027),\n",
              " ('GKKicking', 0.0026363486571099027),\n",
              " ('GKPositioning', 0.0026363486571099027),\n",
              " ('GKReflexes', 0.0026363486571099027),\n",
              " ('Release Clause', 0.08590102707749767)]"
            ]
          },
          "metadata": {
            "tags": []
          },
          "execution_count": 66
        }
      ]
    },
    {
      "cell_type": "code",
      "metadata": {
        "colab": {
          "base_uri": "https://localhost:8080/",
          "height": 204
        },
        "id": "KVprGxQ4HASG",
        "outputId": "472fcf85-964b-4d25-e1e8-f1036fa74242"
      },
      "source": [
        "filtered_columns1 = ['Name','Age','Crossing']\n",
        "data1 = dataset1[filtered_columns1]\n",
        "data1.head()"
      ],
      "execution_count": null,
      "outputs": [
        {
          "output_type": "execute_result",
          "data": {
            "text/html": [
              "<div>\n",
              "<style scoped>\n",
              "    .dataframe tbody tr th:only-of-type {\n",
              "        vertical-align: middle;\n",
              "    }\n",
              "\n",
              "    .dataframe tbody tr th {\n",
              "        vertical-align: top;\n",
              "    }\n",
              "\n",
              "    .dataframe thead th {\n",
              "        text-align: right;\n",
              "    }\n",
              "</style>\n",
              "<table border=\"1\" class=\"dataframe\">\n",
              "  <thead>\n",
              "    <tr style=\"text-align: right;\">\n",
              "      <th></th>\n",
              "      <th>Name</th>\n",
              "      <th>Age</th>\n",
              "      <th>Crossing</th>\n",
              "    </tr>\n",
              "  </thead>\n",
              "  <tbody>\n",
              "    <tr>\n",
              "      <th>0</th>\n",
              "      <td>L. Messi</td>\n",
              "      <td>31</td>\n",
              "      <td>84.0</td>\n",
              "    </tr>\n",
              "    <tr>\n",
              "      <th>1</th>\n",
              "      <td>Cristiano Ronaldo</td>\n",
              "      <td>33</td>\n",
              "      <td>84.0</td>\n",
              "    </tr>\n",
              "    <tr>\n",
              "      <th>2</th>\n",
              "      <td>Neymar Jr</td>\n",
              "      <td>26</td>\n",
              "      <td>79.0</td>\n",
              "    </tr>\n",
              "    <tr>\n",
              "      <th>3</th>\n",
              "      <td>De Gea</td>\n",
              "      <td>27</td>\n",
              "      <td>17.0</td>\n",
              "    </tr>\n",
              "    <tr>\n",
              "      <th>4</th>\n",
              "      <td>K. De Bruyne</td>\n",
              "      <td>27</td>\n",
              "      <td>93.0</td>\n",
              "    </tr>\n",
              "  </tbody>\n",
              "</table>\n",
              "</div>"
            ],
            "text/plain": [
              "                Name  Age  Crossing\n",
              "0           L. Messi   31      84.0\n",
              "1  Cristiano Ronaldo   33      84.0\n",
              "2          Neymar Jr   26      79.0\n",
              "3             De Gea   27      17.0\n",
              "4       K. De Bruyne   27      93.0"
            ]
          },
          "metadata": {
            "tags": []
          },
          "execution_count": 67
        }
      ]
    },
    {
      "cell_type": "code",
      "metadata": {
        "colab": {
          "base_uri": "https://localhost:8080/"
        },
        "id": "zve-PFVaKKc9",
        "outputId": "8e7479b0-d976-41e0-a7e6-741362b5eb85"
      },
      "source": [
        "data1['Crossing'] = data1['Crossing'].fillna(data1['Crossing'].mean())"
      ],
      "execution_count": null,
      "outputs": [
        {
          "output_type": "stream",
          "text": [
            "/usr/local/lib/python3.7/dist-packages/ipykernel_launcher.py:1: SettingWithCopyWarning: \n",
            "A value is trying to be set on a copy of a slice from a DataFrame.\n",
            "Try using .loc[row_indexer,col_indexer] = value instead\n",
            "\n",
            "See the caveats in the documentation: https://pandas.pydata.org/pandas-docs/stable/user_guide/indexing.html#returning-a-view-versus-a-copy\n",
            "  \"\"\"Entry point for launching an IPython kernel.\n"
          ],
          "name": "stderr"
        }
      ]
    },
    {
      "cell_type": "code",
      "metadata": {
        "colab": {
          "base_uri": "https://localhost:8080/",
          "height": 419
        },
        "id": "coqNdEqPK4CI",
        "outputId": "cea95d5d-708f-4ee3-bbaf-b8eea76162c5"
      },
      "source": [
        "data1"
      ],
      "execution_count": null,
      "outputs": [
        {
          "output_type": "execute_result",
          "data": {
            "text/html": [
              "<div>\n",
              "<style scoped>\n",
              "    .dataframe tbody tr th:only-of-type {\n",
              "        vertical-align: middle;\n",
              "    }\n",
              "\n",
              "    .dataframe tbody tr th {\n",
              "        vertical-align: top;\n",
              "    }\n",
              "\n",
              "    .dataframe thead th {\n",
              "        text-align: right;\n",
              "    }\n",
              "</style>\n",
              "<table border=\"1\" class=\"dataframe\">\n",
              "  <thead>\n",
              "    <tr style=\"text-align: right;\">\n",
              "      <th></th>\n",
              "      <th>Name</th>\n",
              "      <th>Age</th>\n",
              "      <th>Crossing</th>\n",
              "    </tr>\n",
              "  </thead>\n",
              "  <tbody>\n",
              "    <tr>\n",
              "      <th>0</th>\n",
              "      <td>L. Messi</td>\n",
              "      <td>31</td>\n",
              "      <td>84.0</td>\n",
              "    </tr>\n",
              "    <tr>\n",
              "      <th>1</th>\n",
              "      <td>Cristiano Ronaldo</td>\n",
              "      <td>33</td>\n",
              "      <td>84.0</td>\n",
              "    </tr>\n",
              "    <tr>\n",
              "      <th>2</th>\n",
              "      <td>Neymar Jr</td>\n",
              "      <td>26</td>\n",
              "      <td>79.0</td>\n",
              "    </tr>\n",
              "    <tr>\n",
              "      <th>3</th>\n",
              "      <td>De Gea</td>\n",
              "      <td>27</td>\n",
              "      <td>17.0</td>\n",
              "    </tr>\n",
              "    <tr>\n",
              "      <th>4</th>\n",
              "      <td>K. De Bruyne</td>\n",
              "      <td>27</td>\n",
              "      <td>93.0</td>\n",
              "    </tr>\n",
              "    <tr>\n",
              "      <th>...</th>\n",
              "      <td>...</td>\n",
              "      <td>...</td>\n",
              "      <td>...</td>\n",
              "    </tr>\n",
              "    <tr>\n",
              "      <th>18202</th>\n",
              "      <td>J. Lundstram</td>\n",
              "      <td>19</td>\n",
              "      <td>34.0</td>\n",
              "    </tr>\n",
              "    <tr>\n",
              "      <th>18203</th>\n",
              "      <td>N. Christoffersson</td>\n",
              "      <td>19</td>\n",
              "      <td>23.0</td>\n",
              "    </tr>\n",
              "    <tr>\n",
              "      <th>18204</th>\n",
              "      <td>B. Worman</td>\n",
              "      <td>16</td>\n",
              "      <td>25.0</td>\n",
              "    </tr>\n",
              "    <tr>\n",
              "      <th>18205</th>\n",
              "      <td>D. Walker-Rice</td>\n",
              "      <td>17</td>\n",
              "      <td>44.0</td>\n",
              "    </tr>\n",
              "    <tr>\n",
              "      <th>18206</th>\n",
              "      <td>G. Nugent</td>\n",
              "      <td>16</td>\n",
              "      <td>41.0</td>\n",
              "    </tr>\n",
              "  </tbody>\n",
              "</table>\n",
              "<p>18207 rows × 3 columns</p>\n",
              "</div>"
            ],
            "text/plain": [
              "                     Name  Age  Crossing\n",
              "0                L. Messi   31      84.0\n",
              "1       Cristiano Ronaldo   33      84.0\n",
              "2               Neymar Jr   26      79.0\n",
              "3                  De Gea   27      17.0\n",
              "4            K. De Bruyne   27      93.0\n",
              "...                   ...  ...       ...\n",
              "18202        J. Lundstram   19      34.0\n",
              "18203  N. Christoffersson   19      23.0\n",
              "18204           B. Worman   16      25.0\n",
              "18205      D. Walker-Rice   17      44.0\n",
              "18206           G. Nugent   16      41.0\n",
              "\n",
              "[18207 rows x 3 columns]"
            ]
          },
          "metadata": {
            "tags": []
          },
          "execution_count": 69
        }
      ]
    },
    {
      "cell_type": "code",
      "metadata": {
        "colab": {
          "base_uri": "https://localhost:8080/"
        },
        "id": "Bj7Wx70pK82_",
        "outputId": "298c532b-2cb8-43b4-a626-900e84b5f1b6"
      },
      "source": [
        "data1_features1 = list(zip(\n",
        "# признаки\n",
        "[i for i in data1.columns],\n",
        "zip(\n",
        "    # типы колонок\n",
        "    [str(i) for i in data1.dtypes],\n",
        "    # проверим есть ли пропущенные значения\n",
        "    [i for i in data1.isnull().sum()]\n",
        ")))\n",
        "# Признаки с типом данных и количеством пропусков\n",
        "data1_features1"
      ],
      "execution_count": null,
      "outputs": [
        {
          "output_type": "execute_result",
          "data": {
            "text/plain": [
              "[('Name', ('object', 0)), ('Age', ('int64', 0)), ('Crossing', ('float64', 0))]"
            ]
          },
          "metadata": {
            "tags": []
          },
          "execution_count": 70
        }
      ]
    },
    {
      "cell_type": "markdown",
      "metadata": {
        "id": "IEw8GCAhLlat"
      },
      "source": [
        "# Кодирование категориального признака:"
      ]
    },
    {
      "cell_type": "code",
      "metadata": {
        "colab": {
          "base_uri": "https://localhost:8080/"
        },
        "id": "cf3ZEDx6Lsa8",
        "outputId": "7da0ab94-a676-46a0-9c8d-68a9b042971c"
      },
      "source": [
        "dataset1_features2 = list(zip(\n",
        "# признаки\n",
        "[i for i in dataset1.columns],\n",
        "zip(\n",
        "    # типы колонок\n",
        "    [str(i) for i in dataset1.dtypes],\n",
        "    # проверим есть ли пропущенные значения\n",
        "    [i for i in dataset1.isnull().sum()],\n",
        "    [i for i in dataset1.nunique()]\n",
        ")))\n",
        "# Признаки с типом данных и количеством пропусков\n",
        "dataset1_features2"
      ],
      "execution_count": null,
      "outputs": [
        {
          "output_type": "execute_result",
          "data": {
            "text/plain": [
              "[('Unnamed: 0', ('int64', 0, 18207)),\n",
              " ('ID', ('int64', 0, 18207)),\n",
              " ('Name', ('object', 0, 17194)),\n",
              " ('Age', ('int64', 0, 29)),\n",
              " ('Photo', ('object', 0, 18207)),\n",
              " ('Nationality', ('object', 0, 164)),\n",
              " ('Flag', ('object', 0, 164)),\n",
              " ('Overall', ('int64', 0, 48)),\n",
              " ('Potential', ('int64', 0, 47)),\n",
              " ('Club', ('object', 241, 651)),\n",
              " ('Club Logo', ('object', 0, 679)),\n",
              " ('Value', ('object', 0, 217)),\n",
              " ('Wage', ('object', 0, 144)),\n",
              " ('Special', ('int64', 0, 1422)),\n",
              " ('Preferred Foot', ('object', 48, 2)),\n",
              " ('International Reputation', ('float64', 48, 5)),\n",
              " ('Weak Foot', ('float64', 48, 5)),\n",
              " ('Skill Moves', ('float64', 48, 5)),\n",
              " ('Work Rate', ('object', 48, 9)),\n",
              " ('Body Type', ('object', 48, 10)),\n",
              " ('Real Face', ('object', 48, 2)),\n",
              " ('Position', ('object', 60, 27)),\n",
              " ('Jersey Number', ('float64', 60, 99)),\n",
              " ('Joined', ('object', 1553, 1736)),\n",
              " ('Loaned From', ('object', 16943, 341)),\n",
              " ('Contract Valid Until', ('object', 289, 36)),\n",
              " ('Height', ('object', 48, 21)),\n",
              " ('Weight', ('object', 48, 57)),\n",
              " ('LS', ('object', 2085, 93)),\n",
              " ('ST', ('object', 2085, 93)),\n",
              " ('RS', ('object', 2085, 93)),\n",
              " ('LW', ('object', 2085, 105)),\n",
              " ('LF', ('object', 2085, 102)),\n",
              " ('CF', ('object', 2085, 102)),\n",
              " ('RF', ('object', 2085, 102)),\n",
              " ('RW', ('object', 2085, 105)),\n",
              " ('LAM', ('object', 2085, 101)),\n",
              " ('CAM', ('object', 2085, 101)),\n",
              " ('RAM', ('object', 2085, 101)),\n",
              " ('LM', ('object', 2085, 100)),\n",
              " ('LCM', ('object', 2085, 92)),\n",
              " ('CM', ('object', 2085, 92)),\n",
              " ('RCM', ('object', 2085, 92)),\n",
              " ('RM', ('object', 2085, 100)),\n",
              " ('LWB', ('object', 2085, 95)),\n",
              " ('LDM', ('object', 2085, 99)),\n",
              " ('CDM', ('object', 2085, 99)),\n",
              " ('RDM', ('object', 2085, 99)),\n",
              " ('RWB', ('object', 2085, 95)),\n",
              " ('LB', ('object', 2085, 98)),\n",
              " ('LCB', ('object', 2085, 108)),\n",
              " ('CB', ('object', 2085, 108)),\n",
              " ('RCB', ('object', 2085, 108)),\n",
              " ('RB', ('object', 2085, 98)),\n",
              " ('Crossing', ('float64', 48, 89)),\n",
              " ('Finishing', ('float64', 48, 93)),\n",
              " ('HeadingAccuracy', ('float64', 48, 91)),\n",
              " ('ShortPassing', ('float64', 48, 85)),\n",
              " ('Volleys', ('float64', 48, 87)),\n",
              " ('Dribbling', ('float64', 48, 94)),\n",
              " ('Curve', ('float64', 48, 89)),\n",
              " ('FKAccuracy', ('float64', 48, 90)),\n",
              " ('LongPassing', ('float64', 48, 84)),\n",
              " ('BallControl', ('float64', 48, 90)),\n",
              " ('Acceleration', ('float64', 48, 86)),\n",
              " ('SprintSpeed', ('float64', 48, 85)),\n",
              " ('Agility', ('float64', 48, 81)),\n",
              " ('Reactions', ('float64', 48, 68)),\n",
              " ('Balance', ('float64', 48, 81)),\n",
              " ('ShotPower', ('float64', 48, 92)),\n",
              " ('Jumping', ('float64', 48, 74)),\n",
              " ('Stamina', ('float64', 48, 85)),\n",
              " ('Strength', ('float64', 48, 74)),\n",
              " ('LongShots', ('float64', 48, 92)),\n",
              " ('Aggression', ('float64', 48, 85)),\n",
              " ('Interceptions', ('float64', 48, 89)),\n",
              " ('Positioning', ('float64', 48, 94)),\n",
              " ('Vision', ('float64', 48, 85)),\n",
              " ('Penalties', ('float64', 48, 87)),\n",
              " ('Composure', ('float64', 48, 84)),\n",
              " ('Marking', ('float64', 48, 92)),\n",
              " ('StandingTackle', ('float64', 48, 90)),\n",
              " ('SlidingTackle', ('float64', 48, 88)),\n",
              " ('GKDiving', ('float64', 48, 71)),\n",
              " ('GKHandling', ('float64', 48, 70)),\n",
              " ('GKKicking', ('float64', 48, 79)),\n",
              " ('GKPositioning', ('float64', 48, 79)),\n",
              " ('GKReflexes', ('float64', 48, 76)),\n",
              " ('Release Clause', ('object', 1564, 1244))]"
            ]
          },
          "metadata": {
            "tags": []
          },
          "execution_count": 71
        }
      ]
    },
    {
      "cell_type": "code",
      "metadata": {
        "colab": {
          "base_uri": "https://localhost:8080/"
        },
        "id": "Y3aEdI9RL4eY",
        "outputId": "bc93d23c-2aff-4d1c-ca7e-7733052ca813"
      },
      "source": [
        "filtered_columns2 = ['Name','Age','Preferred Foot']\n",
        "data2 = dataset1[filtered_columns2]\n",
        "data2['Preferred Foot'].unique()"
      ],
      "execution_count": null,
      "outputs": [
        {
          "output_type": "execute_result",
          "data": {
            "text/plain": [
              "array(['Left', 'Right', nan], dtype=object)"
            ]
          },
          "metadata": {
            "tags": []
          },
          "execution_count": 72
        }
      ]
    },
    {
      "cell_type": "code",
      "metadata": {
        "colab": {
          "base_uri": "https://localhost:8080/"
        },
        "id": "IXNg8SlWM7Uy",
        "outputId": "93f615ee-a72e-4554-8ac1-623e85d14f68"
      },
      "source": [
        " data2['Preferred Foot'] = data2['Preferred Foot'].map(lambda x: 0 if x=='Left' else (1 if x=='Right' else x))"
      ],
      "execution_count": null,
      "outputs": [
        {
          "output_type": "stream",
          "text": [
            "/usr/local/lib/python3.7/dist-packages/ipykernel_launcher.py:1: SettingWithCopyWarning: \n",
            "A value is trying to be set on a copy of a slice from a DataFrame.\n",
            "Try using .loc[row_indexer,col_indexer] = value instead\n",
            "\n",
            "See the caveats in the documentation: https://pandas.pydata.org/pandas-docs/stable/user_guide/indexing.html#returning-a-view-versus-a-copy\n",
            "  \"\"\"Entry point for launching an IPython kernel.\n"
          ],
          "name": "stderr"
        }
      ]
    },
    {
      "cell_type": "code",
      "metadata": {
        "colab": {
          "base_uri": "https://localhost:8080/"
        },
        "id": "nArs-UT8Nmxs",
        "outputId": "6e323fb8-0520-400a-aa5a-98c3947d2179"
      },
      "source": [
        "data2['Preferred Foot'].unique()"
      ],
      "execution_count": null,
      "outputs": [
        {
          "output_type": "execute_result",
          "data": {
            "text/plain": [
              "array([ 0.,  1., nan])"
            ]
          },
          "metadata": {
            "tags": []
          },
          "execution_count": 74
        }
      ]
    },
    {
      "cell_type": "markdown",
      "metadata": {
        "id": "YXzM46GOOYAj"
      },
      "source": [
        "# Нормализация числового признака:"
      ]
    },
    {
      "cell_type": "code",
      "metadata": {
        "id": "wOJlSJdvObWp"
      },
      "source": [
        "from scipy import stats\n",
        "import matplotlib.pyplot as plt\n",
        "\n",
        "%matplotlib inline"
      ],
      "execution_count": null,
      "outputs": []
    },
    {
      "cell_type": "code",
      "metadata": {
        "colab": {
          "base_uri": "https://localhost:8080/"
        },
        "id": "12KiCz3YQGuK",
        "outputId": "2e47ff40-5403-4854-aeae-f97e326e468e"
      },
      "source": [
        "dataset1['Age']"
      ],
      "execution_count": null,
      "outputs": [
        {
          "output_type": "execute_result",
          "data": {
            "text/plain": [
              "0        31\n",
              "1        33\n",
              "2        26\n",
              "3        27\n",
              "4        27\n",
              "         ..\n",
              "18202    19\n",
              "18203    19\n",
              "18204    16\n",
              "18205    17\n",
              "18206    16\n",
              "Name: Age, Length: 18207, dtype: int64"
            ]
          },
          "metadata": {
            "tags": []
          },
          "execution_count": 135
        }
      ]
    },
    {
      "cell_type": "code",
      "metadata": {
        "id": "gZZNO5lDYEVS",
        "colab": {
          "base_uri": "https://localhost:8080/",
          "height": 268
        },
        "outputId": "0230f739-8f2a-44b6-868a-a0ea153dce5f"
      },
      "source": [
        "ax = dataset1['Age'].plot.hist(bins=24, alpha=0.5)"
      ],
      "execution_count": null,
      "outputs": [
        {
          "output_type": "display_data",
          "data": {
            "image/png": "[encoded data removed]",
            "text/plain": [
              "<Figure size 432x288 with 1 Axes>"
            ]
          },
          "metadata": {
            "tags": [],
            "needs_background": "light"
          }
        }
      ]
    },
    {
      "cell_type": "code",
      "metadata": {
        "id": "zqSA7Sq0QmXU",
        "colab": {
          "base_uri": "https://localhost:8080/"
        },
        "outputId": "4f09a8e8-3e0c-4289-a22d-be7dcb7dc12e"
      },
      "source": [
        "_, p = stats.normaltest(dataset1['Age'])\n",
        "\n",
        "alpha = 0.05\n",
        "\n",
        "if p < alpha:  # null hypothesis: x comes from a normal distribution\n",
        "    print(\"The null hypothesis can be rejected\", p)\n",
        "else:\n",
        "    print(\"The null hypothesis cannot be rejected\", p)"
      ],
      "execution_count": null,
      "outputs": [
        {
          "output_type": "stream",
          "text": [
            "The null hypothesis can be rejected 3.430921549749606e-155\n"
          ],
          "name": "stdout"
        }
      ]
    },
    {
      "cell_type": "markdown",
      "metadata": {
        "id": "EO6rlaAeZi7x"
      },
      "source": [
        "# Видим бимодальное распределение."
      ]
    },
    {
      "cell_type": "code",
      "metadata": {
        "id": "T3XOwc1va_v2"
      },
      "source": [
        "Age1 = dataset1.sort_values('Age')['Age'].copy()\n",
        "\n",
        "Age1 = Age1.rolling(window=30).mean()\n",
        "\n",
        "Age1 = Age1.dropna()"
      ],
      "execution_count": null,
      "outputs": []
    },
    {
      "cell_type": "code",
      "metadata": {
        "id": "zIbP9MZ6bS9Z",
        "colab": {
          "base_uri": "https://localhost:8080/"
        },
        "outputId": "3231cdda-98f1-4c24-e36a-909f5844eaf8"
      },
      "source": [
        "_, p = stats.normaltest(Age1)\n",
        "\n",
        "alpha = 0.05\n",
        "\n",
        "if p < alpha:  # null hypothesis: x comes from a normal distribution\n",
        "    print(\"The null hypothesis can be rejected\", p)\n",
        "else:\n",
        "    print(\"The null hypothesis cannot be rejected\", p)"
      ],
      "execution_count": null,
      "outputs": [
        {
          "output_type": "stream",
          "text": [
            "The null hypothesis can be rejected 3.109091816909981e-178\n"
          ],
          "name": "stdout"
        }
      ]
    },
    {
      "cell_type": "code",
      "metadata": {
        "id": "Re3hoo4ibz-1",
        "colab": {
          "base_uri": "https://localhost:8080/"
        },
        "outputId": "4e62912e-22c8-44e7-f335-99d62f2f7083"
      },
      "source": [
        "Age1"
      ],
      "execution_count": null,
      "outputs": [
        {
          "output_type": "execute_result",
          "data": {
            "text/plain": [
              "16254    16.000000\n",
              "11457    16.000000\n",
              "17841    16.000000\n",
              "16544    16.000000\n",
              "17808    16.000000\n",
              "           ...    \n",
              "12192    39.766667\n",
              "10545    39.866667\n",
              "18183    40.033333\n",
              "17726    40.200000\n",
              "4741     40.400000\n",
              "Name: Age, Length: 18178, dtype: float64"
            ]
          },
          "metadata": {
            "tags": []
          },
          "execution_count": 144
        }
      ]
    },
    {
      "cell_type": "code",
      "metadata": {
        "id": "M8WTotGtdaw5",
        "colab": {
          "base_uri": "https://localhost:8080/",
          "height": 268
        },
        "outputId": "86bdf3dd-3405-4cfe-c516-f669e6f2803b"
      },
      "source": [
        "ax = Age1.plot.hist(bins=24, alpha=0.5)"
      ],
      "execution_count": null,
      "outputs": [
        {
          "output_type": "display_data",
          "data": {
            "image/png": "[encoded data removed]",
            "text/plain": [
              "<Figure size 432x288 with 1 Axes>"
            ]
          },
          "metadata": {
            "tags": [],
            "needs_background": "light"
          }
        }
      ]
    },
    {
      "cell_type": "markdown",
      "metadata": {
        "id": "seUIGdCjd9Gk"
      },
      "source": [
        "# По статистическому тесту мы не приблизили нашу колонку к нормальному распределению, но визуально теперь распределение больше похоже на нормальное. Учитывая бимодальную природу исходных данных колонки 'Age' у нас не получилось приблизить это распределение к нормальному. "
      ]
    },
    {
      "cell_type": "code",
      "metadata": {
        "id": "ttURWAYRf-DE"
      },
      "source": [
        ""
      ],
      "execution_count": null,
      "outputs": []
    }
  ]
}